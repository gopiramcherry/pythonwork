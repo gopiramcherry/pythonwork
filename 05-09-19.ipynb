{
 "cells": [
  {
   "cell_type": "code",
   "execution_count": 7,
   "metadata": {},
   "outputs": [
    {
     "name": "stdout",
     "output_type": "stream",
     "text": [
      "enter a value :22\n",
      "enter b value :22\n",
      "44\n"
     ]
    }
   ],
   "source": [
    "a=int(input(\"enter a value :\"))\n",
    "b=int(input(\"enter b value :\"))\n",
    "c=a+b\n",
    "print(c)"
   ]
  },
  {
   "cell_type": "code",
   "execution_count": 5,
   "metadata": {},
   "outputs": [
    {
     "data": {
      "text/plain": [
       "80"
      ]
     },
     "execution_count": 5,
     "metadata": {},
     "output_type": "execute_result"
    }
   ],
   "source": [
    "20+60"
   ]
  },
  {
   "cell_type": "markdown",
   "metadata": {},
   "source": [
    "# loop"
   ]
  },
  {
   "cell_type": "code",
   "execution_count": 13,
   "metadata": {},
   "outputs": [
    {
     "name": "stdout",
     "output_type": "stream",
     "text": [
      "2\n",
      "5\n",
      "10\n"
     ]
    }
   ],
   "source": [
    "a=int(input())\n",
    "b=int(input())\n",
    "c=a*b\n",
    "print(c)"
   ]
  },
  {
   "cell_type": "code",
   "execution_count": 17,
   "metadata": {},
   "outputs": [
    {
     "name": "stdout",
     "output_type": "stream",
     "text": [
      "gopi- mechanical\n"
     ]
    }
   ],
   "source": [
    "a=\"gopi-\"\n",
    "b=\" mechanical\"\n",
    "c=a+b\n",
    "print(c)"
   ]
  },
  {
   "cell_type": "markdown",
   "metadata": {},
   "source": [
    "# conditional statement"
   ]
  },
  {
   "cell_type": "code",
   "execution_count": null,
   "metadata": {},
   "outputs": [],
   "source": [
    "a=int(input(\"enter a value :\"))\n",
    "b=int(input(\"enter b value :\"))\n",
    "if a==b:\n",
    "    print(\"both a & b are equal\")\n",
    "elif a>b:\n",
    "    print(a,\" is greater\")\n",
    "else:\n",
    "    print(b,\" is greater\")"
   ]
  },
  {
   "cell_type": "markdown",
   "metadata": {},
   "source": [
    "# calendar"
   ]
  },
  {
   "cell_type": "code",
   "execution_count": 32,
   "metadata": {},
   "outputs": [
    {
     "name": "stdout",
     "output_type": "stream",
     "text": [
      "2020\n",
      "1\n",
      "    January 2020\n",
      "Mo Tu We Th Fr Sa Su\n",
      "       1  2  3  4  5\n",
      " 6  7  8  9 10 11 12\n",
      "13 14 15 16 17 18 19\n",
      "20 21 22 23 24 25 26\n",
      "27 28 29 30 31\n",
      "\n"
     ]
    }
   ],
   "source": [
    "import calendar\n",
    "year=int(input())\n",
    "month=int(input())\n",
    "c=calendar.month(year,month)\n",
    "print(c)"
   ]
  },
  {
   "cell_type": "code",
   "execution_count": 33,
   "metadata": {},
   "outputs": [
    {
     "data": {
      "text/plain": [
       "int"
      ]
     },
     "execution_count": 33,
     "metadata": {},
     "output_type": "execute_result"
    }
   ],
   "source": [
    "a=4\n",
    "type(a)"
   ]
  },
  {
   "cell_type": "code",
   "execution_count": 34,
   "metadata": {},
   "outputs": [
    {
     "data": {
      "text/plain": [
       "float"
      ]
     },
     "execution_count": 34,
     "metadata": {},
     "output_type": "execute_result"
    }
   ],
   "source": [
    "a=0.2568745436\n",
    "type(a)"
   ]
  },
  {
   "cell_type": "code",
   "execution_count": 36,
   "metadata": {},
   "outputs": [
    {
     "data": {
      "text/plain": [
       "int"
      ]
     },
     "execution_count": 36,
     "metadata": {},
     "output_type": "execute_result"
    }
   ],
   "source": [
    "a=2563\n",
    "type(a)"
   ]
  },
  {
   "cell_type": "code",
   "execution_count": 37,
   "metadata": {},
   "outputs": [
    {
     "data": {
      "text/plain": [
       "str"
      ]
     },
     "execution_count": 37,
     "metadata": {},
     "output_type": "execute_result"
    }
   ],
   "source": [
    "a=\"gopi\"\n",
    "type(a)"
   ]
  },
  {
   "cell_type": "markdown",
   "metadata": {},
   "source": [
    "# loops concept"
   ]
  },
  {
   "cell_type": "code",
   "execution_count": 53,
   "metadata": {},
   "outputs": [
    {
     "name": "stdout",
     "output_type": "stream",
     "text": [
      "0\n",
      "1\n",
      "2\n",
      "3\n",
      "4\n"
     ]
    }
   ],
   "source": [
    "for i in range(5):\n",
    "    print(i)"
   ]
  },
  {
   "cell_type": "code",
   "execution_count": 56,
   "metadata": {},
   "outputs": [
    {
     "name": "stdout",
     "output_type": "stream",
     "text": [
      "['gopi', 'satish', 'manoj', 'prasad', 'chandu'] ['mech', 'cse', 'ece', 'civil', 'eee']\n",
      "['gopi', 'satish', 'manoj', 'prasad', 'chandu'] ['mech', 'cse', 'ece', 'civil', 'eee']\n",
      "['gopi', 'satish', 'manoj', 'prasad', 'chandu'] ['mech', 'cse', 'ece', 'civil', 'eee']\n",
      "['gopi', 'satish', 'manoj', 'prasad', 'chandu'] ['mech', 'cse', 'ece', 'civil', 'eee']\n",
      "['gopi', 'satish', 'manoj', 'prasad', 'chandu'] ['mech', 'cse', 'ece', 'civil', 'eee']\n",
      "['gopi', 'satish', 'manoj', 'prasad', 'chandu'] ['mech', 'cse', 'ece', 'civil', 'eee']\n",
      "['gopi', 'satish', 'manoj', 'prasad', 'chandu'] ['mech', 'cse', 'ece', 'civil', 'eee']\n",
      "['gopi', 'satish', 'manoj', 'prasad', 'chandu'] ['mech', 'cse', 'ece', 'civil', 'eee']\n",
      "['gopi', 'satish', 'manoj', 'prasad', 'chandu'] ['mech', 'cse', 'ece', 'civil', 'eee']\n",
      "['gopi', 'satish', 'manoj', 'prasad', 'chandu'] ['mech', 'cse', 'ece', 'civil', 'eee']\n",
      "['gopi', 'satish', 'manoj', 'prasad', 'chandu'] ['mech', 'cse', 'ece', 'civil', 'eee']\n",
      "['gopi', 'satish', 'manoj', 'prasad', 'chandu'] ['mech', 'cse', 'ece', 'civil', 'eee']\n",
      "['gopi', 'satish', 'manoj', 'prasad', 'chandu'] ['mech', 'cse', 'ece', 'civil', 'eee']\n",
      "['gopi', 'satish', 'manoj', 'prasad', 'chandu'] ['mech', 'cse', 'ece', 'civil', 'eee']\n",
      "['gopi', 'satish', 'manoj', 'prasad', 'chandu'] ['mech', 'cse', 'ece', 'civil', 'eee']\n",
      "['gopi', 'satish', 'manoj', 'prasad', 'chandu'] ['mech', 'cse', 'ece', 'civil', 'eee']\n",
      "['gopi', 'satish', 'manoj', 'prasad', 'chandu'] ['mech', 'cse', 'ece', 'civil', 'eee']\n",
      "['gopi', 'satish', 'manoj', 'prasad', 'chandu'] ['mech', 'cse', 'ece', 'civil', 'eee']\n",
      "['gopi', 'satish', 'manoj', 'prasad', 'chandu'] ['mech', 'cse', 'ece', 'civil', 'eee']\n",
      "['gopi', 'satish', 'manoj', 'prasad', 'chandu'] ['mech', 'cse', 'ece', 'civil', 'eee']\n",
      "['gopi', 'satish', 'manoj', 'prasad', 'chandu'] ['mech', 'cse', 'ece', 'civil', 'eee']\n",
      "['gopi', 'satish', 'manoj', 'prasad', 'chandu'] ['mech', 'cse', 'ece', 'civil', 'eee']\n",
      "['gopi', 'satish', 'manoj', 'prasad', 'chandu'] ['mech', 'cse', 'ece', 'civil', 'eee']\n",
      "['gopi', 'satish', 'manoj', 'prasad', 'chandu'] ['mech', 'cse', 'ece', 'civil', 'eee']\n",
      "['gopi', 'satish', 'manoj', 'prasad', 'chandu'] ['mech', 'cse', 'ece', 'civil', 'eee']\n"
     ]
    }
   ],
   "source": [
    "x=[\"gopi\",\"satish\",\"manoj\",\"prasad\",\"chandu\"]\n",
    "y=[\"mech\",\"cse\",\"ece\",\"civil\",\"eee\"]\n",
    "for i in x:\n",
    "    for j in y:\n",
    "        print(x,y)"
   ]
  },
  {
   "cell_type": "markdown",
   "metadata": {},
   "source": [
    "# functions concept"
   ]
  },
  {
   "cell_type": "code",
   "execution_count": null,
   "metadata": {},
   "outputs": [],
   "source": [
    "#function:\n",
    "a function is a group of statements to perform specific tasks.\n",
    "a function having a return type. "
   ]
  },
  {
   "cell_type": "markdown",
   "metadata": {},
   "source": [
    "# syntax for function"
   ]
  },
  {
   "cell_type": "code",
   "execution_count": null,
   "metadata": {},
   "outputs": [],
   "source": [
    "def functionname(parameters):\n",
    "    return statement\n",
    "functionname()"
   ]
  },
  {
   "cell_type": "code",
   "execution_count": 66,
   "metadata": {},
   "outputs": [
    {
     "name": "stdout",
     "output_type": "stream",
     "text": [
      "20\n",
      "63\n"
     ]
    },
    {
     "data": {
      "text/plain": [
       "0.31746031746031744"
      ]
     },
     "execution_count": 66,
     "metadata": {},
     "output_type": "execute_result"
    }
   ],
   "source": [
    "def add(x,y): \n",
    "    c=x/y\n",
    "    return c\n",
    "a=int(input())\n",
    "b=int(input())\n",
    "add(a,b)"
   ]
  },
  {
   "cell_type": "code",
   "execution_count": 67,
   "metadata": {},
   "outputs": [
    {
     "name": "stdout",
     "output_type": "stream",
     "text": [
      "enter A value24\n",
      "enterB value26\n",
      "50\n",
      "624\n",
      "0.9230769230769231\n"
     ]
    }
   ],
   "source": [
    "def add(a,b):\n",
    "    c=a+b\n",
    "    return c\n",
    "def mul(a,b):\n",
    "    c=a*b\n",
    "    return c\n",
    "def div(a,b):\n",
    "    c=a/b\n",
    "    return c\n",
    "a=int(input(\"enter A value\"))\n",
    "b=int(input(\"enterB value\"))\n",
    "\n",
    "print(add(a,b))\n",
    "print(mul(a,b))\n",
    "print(div(a,b))"
   ]
  },
  {
   "cell_type": "markdown",
   "metadata": {},
   "source": [
    "# to print the table"
   ]
  },
  {
   "cell_type": "code",
   "execution_count": 68,
   "metadata": {},
   "outputs": [],
   "source": [
    "#print the table"
   ]
  },
  {
   "cell_type": "code",
   "execution_count": 71,
   "metadata": {},
   "outputs": [
    {
     "name": "stdout",
     "output_type": "stream",
     "text": [
      "enter the table number9\n",
      "the multiplication of given table 9\n",
      "9 x 1 = 9\n",
      "9 x 2 = 18\n",
      "9 x 3 = 27\n",
      "9 x 4 = 36\n",
      "9 x 5 = 45\n",
      "9 x 6 = 54\n",
      "9 x 7 = 63\n",
      "9 x 8 = 72\n",
      "9 x 9 = 81\n",
      "9 x 10 = 90\n"
     ]
    }
   ],
   "source": [
    "n=int(input(\"enter the table number\"))\n",
    "print(\"the multiplication of given table\",n)\n",
    "for i in range(1,11):\n",
    "    print(n,\"x\",i,\"=\",n*i)"
   ]
  },
  {
   "cell_type": "markdown",
   "metadata": {},
   "source": [
    "# given number even r odd"
   ]
  },
  {
   "cell_type": "code",
   "execution_count": 83,
   "metadata": {},
   "outputs": [
    {
     "name": "stdout",
     "output_type": "stream",
     "text": [
      "enter the value :46\n",
      "the number is even 46\n"
     ]
    }
   ],
   "source": [
    "num=int(input(\"enter the value :\"))\n",
    "if(num%2==0):\n",
    "    print(\"the number is even\",num)\n",
    "else:\n",
    "    print(\"the number is odd\",num)"
   ]
  },
  {
   "cell_type": "code",
   "execution_count": null,
   "metadata": {},
   "outputs": [],
   "source": []
  },
  {
   "cell_type": "code",
   "execution_count": null,
   "metadata": {},
   "outputs": [],
   "source": []
  }
 ],
 "metadata": {
  "kernelspec": {
   "display_name": "Python 3",
   "language": "python",
   "name": "python3"
  },
  "language_info": {
   "codemirror_mode": {
    "name": "ipython",
    "version": 3
   },
   "file_extension": ".py",
   "mimetype": "text/x-python",
   "name": "python",
   "nbconvert_exporter": "python",
   "pygments_lexer": "ipython3",
   "version": "3.7.3"
  }
 },
 "nbformat": 4,
 "nbformat_minor": 2
}
