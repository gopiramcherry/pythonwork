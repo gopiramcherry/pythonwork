{
 "cells": [
  {
   "cell_type": "markdown",
   "metadata": {},
   "source": [
    "# PALINDROM R NOT"
   ]
  },
  {
   "cell_type": "code",
   "execution_count": null,
   "metadata": {},
   "outputs": [],
   "source": [
    "v=input()\n",
    "r=v[::-1]\n",
    "if v==r:\n",
    "    print(\"palindrom\")\n",
    "else:\n",
    "    print(\"not palindrom\")"
   ]
  },
  {
   "cell_type": "markdown",
   "metadata": {},
   "source": [
    "# special number"
   ]
  },
  {
   "cell_type": "code",
   "execution_count": 21,
   "metadata": {},
   "outputs": [
    {
     "name": "stdout",
     "output_type": "stream",
     "text": [
      "enter a number28\n",
      "28 is not a special number\n"
     ]
    }
   ],
   "source": [
    "n=int(input(\"enter a number\"))\n",
    "if n>9 and n<99:\n",
    "    a=n%10\n",
    "    b=n/10\n",
    "    c=a*b\n",
    "    d=a+b\n",
    "    e=c+d\n",
    "    if e==n:\n",
    "        print(n,\"is special number\")\n",
    "    else:\n",
    "        print(n,\"is not a special number\")\n",
    "else:\n",
    "    print(\"enter a value\")\n",
    "\n"
   ]
  },
  {
   "cell_type": "markdown",
   "metadata": {},
   "source": [
    "# perfect numbers in range"
   ]
  },
  {
   "cell_type": "code",
   "execution_count": 16,
   "metadata": {},
   "outputs": [
    {
     "name": "stdout",
     "output_type": "stream",
     "text": [
      "enter lb :1\n",
      "enter ub :560\n",
      "perfect no is : 6\n",
      "perfect no is : 28\n",
      "perfect no is : 496\n"
     ]
    }
   ],
   "source": []
  },
  {
   "cell_type": "markdown",
   "metadata": {},
   "source": [
    "# prime numbers"
   ]
  },
  {
   "cell_type": "code",
   "execution_count": 28,
   "metadata": {},
   "outputs": [
    {
     "name": "stdout",
     "output_type": "stream",
     "text": [
      "enter lb :29\n",
      "enter ub :60\n",
      "prime is: 29\n",
      "prime is: 31\n",
      "prime is: 37\n",
      "prime is: 41\n",
      "prime is: 43\n",
      "prime is: 47\n",
      "prime is: 53\n",
      "prime is: 59\n"
     ]
    }
   ],
   "source": [
    "lb=int(input(\"enter lb :\"))\n",
    "ub=int(input(\"enter ub :\"))\n",
    "s=1\n",
    "def findfactor(n,s):\n",
    "    for i in range(1,n):\n",
    "        if n%i==0:\n",
    "            s=s+i\n",
    "    if s==2:\n",
    "        print(\"prime is:\",n)\n",
    "for k in range(lb,ub+1):\n",
    "    findfactor(k,s)"
   ]
  },
  {
   "cell_type": "code",
   "execution_count": null,
   "metadata": {},
   "outputs": [],
   "source": []
  }
 ],
 "metadata": {
  "kernelspec": {
   "display_name": "Python 3",
   "language": "python",
   "name": "python3"
  },
  "language_info": {
   "codemirror_mode": {
    "name": "ipython",
    "version": 3
   },
   "file_extension": ".py",
   "mimetype": "text/x-python",
   "name": "python",
   "nbconvert_exporter": "python",
   "pygments_lexer": "ipython3",
   "version": "3.7.3"
  }
 },
 "nbformat": 4,
 "nbformat_minor": 2
}
